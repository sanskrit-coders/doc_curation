{
 "cells": [
  {
   "cell_type": "code",
   "execution_count": 24,
   "metadata": {
    "collapsed": true
   },
   "outputs": [
    {
     "name": "stdout",
     "output_type": "stream",
     "text": [
      "/home/vvasuki/vishvAsa/purANam/content/skanda-purANam/8_ambikA-khaNDaH/003.md\n"
     ]
    }
   ],
   "source": [
    "import regex\n",
    "\n",
    "i = 3\n",
    "print(f\"/home/vvasuki/vishvAsa/purANam/content/skanda-purANam/8_ambikA-khaNDaH/{i:03}.md\")"
   ]
  }
 ],
 "metadata": {
  "kernelspec": {
   "display_name": "Python 3",
   "language": "python",
   "name": "python3"
  },
  "language_info": {
   "codemirror_mode": {
    "name": "ipython",
    "version": 2
   },
   "file_extension": ".py",
   "mimetype": "text/x-python",
   "name": "python",
   "nbconvert_exporter": "python",
   "pygments_lexer": "ipython2",
   "version": "2.7.6"
  }
 },
 "nbformat": 4,
 "nbformat_minor": 0
}
